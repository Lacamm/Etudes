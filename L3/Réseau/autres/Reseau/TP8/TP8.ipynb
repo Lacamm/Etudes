{
 "cells": [
  {
   "cell_type": "markdown",
   "metadata": {},
   "source": [
    "# TP réseaux 2021/2022 - TP 8 : Découverte d'IPv6\n",
    "\n",
    "Cette séance est une introduction à IPv6. On s'intéresse à l'adressage ([RFC 4291](#https://datatracker.ietf.org/doc/html/rfc4291)), à l'autoconfiguration et au routage statique. Il s'agit d'une découverte par l'observation et quelques configurations qui sont guidées ci-dessous."
   ]
  },
  {
   "cell_type": "markdown",
   "metadata": {},
   "source": [
    "## 1. Les adresses IPv6\n",
    "\n",
    "Dans cette première partie, il s'agit d'observer les adresses IPv6 et de réaliser un réseau constitué de 2 sous réseaux contenant chacun 2 machines et d'un routeur avec une interface dans chaque réseau. Vous allez configurer progressivement ce réseau sous la forme d'un lab Kathara. \n",
    "\n",
    "### 1.1 Les adresses locales\n",
    "\n",
    "Créez un *lab.conf* afin de lancer deux machines alice et bob avec une interface réseau dans un domaine de collision **A**. Il est nécessaire d'activer IPv6 sur les machines et également de mettre à faux l'IP forwarding sur ces machines qui ne sont pas des routeurs. Par exemple pour alice vous aurez les lignes suivantes dans votre lab."
   ]
  },
  {
   "cell_type": "code",
   "execution_count": null,
   "metadata": {},
   "outputs": [],
   "source": [
    "alice[0]=\"A\"\n",
    "alice[ipv6]=\"True\"\n",
    "alice[sysctl]=\"net.ipv6.conf.all.forwarding=0\"\n",
    "alice[image]=\"nopid/3ia:latest\"\n"
   ]
  },
  {
   "cell_type": "markdown",
   "metadata": {},
   "source": [
    "Après avoir lancé votre lab\n",
    "1. observez la configuration de l'interface eth0 des machines alice et bob (commande ip addr)\n",
    "2. observez le lien entre l'adresse MAC et l'adresse de lien local (scope link)"
   ]
  },
  {
   "cell_type": "raw",
   "metadata": {},
   "source": [
    "IPv6 : fe80::cb4:ceff:fecb:f422 => fe80 préfixe IPv6 => \n",
    "@MAC : 0e:b4:ce:cb:f4:22 => protocole d'auto-configuration : coupé l'@MAC en deux :  0e:b4:ce: et on ajoute ff ou fe en plus de ces bits.\n",
    "\n",
    "Q1. Comment est choisie l'adresse de lien local (scope link) ? \n",
    "Q2. Est ce que alice et bob peuvent se joindre : ping -c 4 xxxx%eth0 : Oui, il peuvent se joindre\n",
    "Q3. Pourquoi et quand doit-on spécifier l'interface ?\n",
    "Q4. Est-il envisageable de communiquer hors du réseau local avec cette adresse ? Non"
   ]
  },
  {
   "cell_type": "markdown",
   "metadata": {},
   "source": [
    "Arrêter le lab avec *Kathara wipe*.\n",
    "\n",
    "## 1.2 Les adresses globales\n",
    "\n",
    "Dans cette partie, on va rajouter un deuxième sous réseau et des adresses routables pour faire communiquer ces deux réseaux locaux. \n",
    "\n",
    "Complétez votre lab.conf afin de rajouter un domaine de collision **B** et deux machines charlie et dave avec eth0 dans ce domaine de collision.\n",
    "\n",
    "Rajoutez un routeur **rtr** avec deux interfaces, eth0 dans le domaine de collision **A** et eth1 dans **B**. Attention il faut laisser la valeur de l'IP forwarding à 1 car il s'agit bien d'un routeur.\n",
    "\n",
    "Pour la suite de la configuration, il s'agit de travailler directement dans les machines virtuelles une fois votre lab lancé. Et on choisit des adresses avec le préfixe réseau local 2001:ad38::/64 pour alice, bob et rtr (eth0), et  2001:ad54::/64 pour charlie, daisy et rtr (eth1). \n",
    "\n",
    "Finalisez la configuration des adresses et des tables de routage des différentes machines avec la commande *ip -6*\n"
   ]
  },
  {
   "cell_type": "code",
   "execution_count": null,
   "metadata": {},
   "outputs": [],
   "source": [
    "ip -6 address add \"@Ipv6\"/64 dev eth0\n",
    "ip -6 route add \"@dest\" via \"@IPv6 de la passerelle\"\n",
    "ip -6 route show"
   ]
  },
  {
   "cell_type": "markdown",
   "metadata": {},
   "source": [
    "Vérifiez que votre réseau est fonctionnel à l'aide de pings entre les machines avec les adresses *global scope*.\n",
    "\n",
    "Le protocole ARP permet de faire le lien entre les adresses IPv4 (couche réseau) et les adresses MAC (couche liaison). En lançant *kathara wire A* ou *Kathara wire B* \n"
   ]
  },
  {
   "cell_type": "code",
   "execution_count": null,
   "metadata": {},
   "outputs": [],
   "source": [
    "Q5. Déterminez quels messages remplacent ARP pour IPv6 ? ARP => NDP (Neighbor Discorver Protocol)\n",
    "Envoi une requete Neighbor Solicitation , reçoit en retour Neighbor Advertissement\n",
    "Q6. Que fait la commande ip neigh ? Montre la table de routage (IP ET @MAC) des différents voisins"
   ]
  },
  {
   "cell_type": "markdown",
   "metadata": {},
   "source": [
    "## 2. Autoconfiguration\n",
    "\n",
    "Dans cette deuxième partie, vous allez utiliser deux lab labmini6.tgz et labdhcp6.tgz à charger sur la page sur Celene. Ils reprennent le réseau que vous avez construit dans la première partie mais ils contiennent également des éléments supplémentaires pour configurer deux protocoles associés à IPv6 pour l'autoconfiguration des machines. \n",
    "\n",
    "### 2.1 Autoconfiguration RADVD ([RFC 4862](https://datatracker.ietf.org/doc/html/rfc4862))\n",
    "\n",
    "La première option d'autoconfiguration utilise un Router ADVertisement Daemon. Dans *labmini6*, **radvd** est configuré sur le routeur *rtr*.\n",
    "\n",
    "Démarrez labmini6 par la commande "
   ]
  },
  {
   "cell_type": "code",
   "execution_count": null,
   "metadata": {},
   "outputs": [],
   "source": [
    "kathara lstart rtr bob daisy"
   ]
  },
  {
   "cell_type": "markdown",
   "metadata": {},
   "source": [
    "et exécutez kathara wire A. Enfin, lancez la machine alice avec la commande suivante"
   ]
  },
  {
   "cell_type": "code",
   "execution_count": null,
   "metadata": {},
   "outputs": [],
   "source": [
    "kathara lstart alice"
   ]
  },
  {
   "cell_type": "markdown",
   "metadata": {},
   "source": [
    "Observez les échanges dans wireshark et lisez le contenu du fichier */etc/radvd.conf* "
   ]
  },
  {
   "cell_type": "raw",
   "metadata": {},
   "source": [
    "Q7. Comment alice a obtenu ses deux adresses ? Le routeur a recuperer tout ses voisins et les a ensuite donné a alice\n",
    "\n",
    "Q8. Décrivez les messages échangés lorsque l'interface d'alice est activée ? On a tout d'abord un multicast pour detecter tout les voisins, on a ensuite le protocole NDP qui va voir si les voisins sont présent. \n",
    "Il va ensuite chercher alice avec le protocole NDP et va ensuite utiliser TCP pour lui envoyer ces voisins.\n",
    "Ensuite, on verifie que le reseau est entierement accesible.\n",
    "\n",
    "Q9. Est ce qu'alice peut joindre daisy par un ping ? Avez vous besoin de rajouter une passerelle dans la table de routage d'alice ?\n",
    "Oui, alice peut joindre daisy. Non, nous n'avaons pas besoin d'ajouter une passerelle dans la table de routage d'alice"
   ]
  },
  {
   "cell_type": "markdown",
   "metadata": {},
   "source": [
    "Faîtes la même chose pour charlie sur le réseau **B**.\n",
    "\n",
    "### 2.2 Autoconfiguration DHCP version 6 ([RFC 8415](https://datatracker.ietf.org/doc/html/rfc8415))\n",
    "\n",
    "On va maintenant utiliser le couple **RADVD** et **DHCP** pour la configuration des machines.  \n",
    "\n",
    "Lancez le lab de l'archive labdhcp6.tgz. Pour comprendre le protocole DHCP version 6 et son association avec RADVD suivez les étapes suivantes:\n",
    "\n",
    "1. Vérifiez qu'alice a une adresse dans le réseau 2001:ad38::/64\n",
    "2. Sur la machine *rtr* regardez le fichier /etc/radvd.conf et /etc/dhcp/dhcpd.conf\n",
    "3. Lancez un wireshark sur le réseau **A** et exécutez la commande dhclient -6 eth0 sur bob. Observez les échanges et vérifiez que bob a désormais une adresse dans le réseau 2001:ad38::/64\n"
   ]
  },
  {
   "cell_type": "raw",
   "metadata": {},
   "source": [
    "Q10. Est-ce que la configuration du serveur RADVD a changé ? Il va configurer la machine avec DHCP\n",
    "Q11. Quels sont les trames échangées pour que bob se configure dans le réseau 2001:ad38::/64 ? Trame du protocole NDP\n",
    "Q12. Quels sont les rôles de RADVD et DHCP dans la configuration d'une machine ? \n",
    "RADVD va permettre a la machine de se configurer car le routeur va donner le prefixe ip ainsi que la passerelle, lui même, cela permet donc a la machine configuré, de pouvoir communiquer avec toutes les machine du réseau. RADVD va faire des groupes de multicast, de routeurs, ce qui permet donc au machine de ce groupe de pouvoir beneficier du protocole NDP. La machine envoie un routeur solicitation et le routeur envoie en multicast un routeur advertissement.\n",
    "\n",
    "Quand à DHCP, il va permettre de donner une adresse IP dans une plage d'adresse donné."
   ]
  },
  {
   "cell_type": "markdown",
   "metadata": {},
   "source": [
    "A partir de vos observations sur alice et bob, modifiez *dhcpd6.conf* du routeur *rtr* pour qu'il puisse délivrer des adresses dans le réseau 2001:ad54::/64.\n",
    "\n",
    "Après avoir relancé le serveur DHCP sur *rtr* avec la commande  "
   ]
  },
  {
   "cell_type": "code",
   "execution_count": null,
   "metadata": {},
   "outputs": [],
   "source": [
    "/etc/init.d/isc-dhcp-server start"
   ]
  },
  {
   "cell_type": "markdown",
   "metadata": {},
   "source": [
    "exécutez sur daisy et charlie la commande "
   ]
  },
  {
   "cell_type": "code",
   "execution_count": null,
   "metadata": {},
   "outputs": [],
   "source": [
    "dhclient -6 eth0 "
   ]
  },
  {
   "cell_type": "raw",
   "metadata": {},
   "source": [
    "Q12. Est-ce que alice (ou bob) peut joindre daisy (ou charlie) par des pings ? OUI"
   ]
  }
 ],
 "metadata": {
  "kernelspec": {
   "display_name": "Python 3",
   "language": "python",
   "name": "python3"
  },
  "language_info": {
   "codemirror_mode": {
    "name": "ipython",
    "version": 3
   },
   "file_extension": ".py",
   "mimetype": "text/x-python",
   "name": "python",
   "nbconvert_exporter": "python",
   "pygments_lexer": "ipython3",
   "version": "3.6.9"
  }
 },
 "nbformat": 4,
 "nbformat_minor": 2
}
